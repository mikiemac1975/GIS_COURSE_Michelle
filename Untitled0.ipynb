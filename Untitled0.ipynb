{
  "nbformat": 4,
  "nbformat_minor": 0,
  "metadata": {
    "colab": {
      "name": "Untitled0.ipynb",
      "provenance": [],
      "include_colab_link": true
    },
    "kernelspec": {
      "name": "python3",
      "display_name": "Python 3"
    }
  },
  "cells": [
    {
      "cell_type": "markdown",
      "metadata": {
        "id": "view-in-github",
        "colab_type": "text"
      },
      "source": [
        "<a href=\"https://colab.research.google.com/github/mikiemac1975/GIS_COURSE_Michelle/blob/master/Untitled0.ipynb\" target=\"_parent\"><img src=\"https://colab.research.google.com/assets/colab-badge.svg\" alt=\"Open In Colab\"/></a>"
      ]
    },
    {
      "cell_type": "code",
      "metadata": {
        "id": "05UrWuRu72d-",
        "colab_type": "code",
        "colab": {}
      },
      "source": [
        "import pandas as pd"
      ],
      "execution_count": 0,
      "outputs": []
    },
    {
      "cell_type": "code",
      "metadata": {
        "id": "8zmqm7i896N5",
        "colab_type": "code",
        "colab": {
          "base_uri": "https://localhost:8080/",
          "height": 306
        },
        "outputId": "7df725a5-84b6-4632-ab6c-59462660148e"
      },
      "source": [
        "canmore_sites = pd.read_csv('https://raw.githubusercontent.com/mikiemac1975/GIS_COURSE_Michelle/mikiemac1975-patch-1/Canmore-download-Mon%2C%2004%20Nov%202019%2010_13_39%20%2B0000.csv_.csv')\n",
        "canmore_sites.head()"
      ],
      "execution_count": 16,
      "outputs": [
        {
          "output_type": "execute_result",
          "data": {
            "text/html": [
              "<div>\n",
              "<style scoped>\n",
              "    .dataframe tbody tr th:only-of-type {\n",
              "        vertical-align: middle;\n",
              "    }\n",
              "\n",
              "    .dataframe tbody tr th {\n",
              "        vertical-align: top;\n",
              "    }\n",
              "\n",
              "    .dataframe thead th {\n",
              "        text-align: right;\n",
              "    }\n",
              "</style>\n",
              "<table border=\"1\" class=\"dataframe\">\n",
              "  <thead>\n",
              "    <tr style=\"text-align: right;\">\n",
              "      <th></th>\n",
              "      <th>CANMORE ID</th>\n",
              "      <th>SITE NUMBER</th>\n",
              "      <th>SITE NAME</th>\n",
              "      <th>SITE TYPE</th>\n",
              "      <th>SITE EASTING</th>\n",
              "      <th>SITE NORTHING</th>\n",
              "      <th>COUNCIL</th>\n",
              "      <th>COUNTY</th>\n",
              "      <th>PARISH</th>\n",
              "      <th>NGR</th>\n",
              "      <th>URL</th>\n",
              "      <th>Unnamed: 11</th>\n",
              "    </tr>\n",
              "  </thead>\n",
              "  <tbody>\n",
              "    <tr>\n",
              "      <th>0</th>\n",
              "      <td>10093</td>\n",
              "      <td>NF77SE 3</td>\n",
              "      <td>North Uist, Vallay Strand, Cnoc A'comhdalach</td>\n",
              "      <td>Aisled Roundhouse (Iron Age), Broch (Iron Age)...</td>\n",
              "      <td>77080</td>\n",
              "      <td>874150</td>\n",
              "      <td>WESTERN ISLES</td>\n",
              "      <td>INVERNESS-SHIRE</td>\n",
              "      <td>NORTH UIST</td>\n",
              "      <td>NF 7708 7415</td>\n",
              "      <td>http://canmore.org.uk/site/10093</td>\n",
              "      <td>NaN</td>\n",
              "    </tr>\n",
              "    <tr>\n",
              "      <th>1</th>\n",
              "      <td>10337</td>\n",
              "      <td>NF87NW 5</td>\n",
              "      <td>North Uist, Machair Leathann</td>\n",
              "      <td>Aisled Roundhouse (Iron Age)</td>\n",
              "      <td>80110</td>\n",
              "      <td>875330</td>\n",
              "      <td>WESTERN ISLES</td>\n",
              "      <td>INVERNESS-SHIRE</td>\n",
              "      <td>NORTH UIST</td>\n",
              "      <td>NF 8011 7533</td>\n",
              "      <td>http://canmore.org.uk/site/10337</td>\n",
              "      <td>NaN</td>\n",
              "    </tr>\n",
              "    <tr>\n",
              "      <th>2</th>\n",
              "      <td>9855</td>\n",
              "      <td>NF72SW 1</td>\n",
              "      <td>South Uist, Kilpheder, Bruthach An Tionail Ard</td>\n",
              "      <td>Aisled Roundhouse (Iron Age), Midden(S) (Perio...</td>\n",
              "      <td>73260</td>\n",
              "      <td>820200</td>\n",
              "      <td>WESTERN ISLES</td>\n",
              "      <td>INVERNESS-SHIRE</td>\n",
              "      <td>SOUTH UIST</td>\n",
              "      <td>NF 7326 2020</td>\n",
              "      <td>http://canmore.org.uk/site/9855</td>\n",
              "      <td>NaN</td>\n",
              "    </tr>\n",
              "    <tr>\n",
              "      <th>3</th>\n",
              "      <td>9957</td>\n",
              "      <td>NF75NE 1</td>\n",
              "      <td>Benbecula Aerodrome</td>\n",
              "      <td>Aisled Roundhouse(S) (Iron Age), Midden (Perio...</td>\n",
              "      <td>78700</td>\n",
              "      <td>856610</td>\n",
              "      <td>WESTERN ISLES</td>\n",
              "      <td>INVERNESS-SHIRE</td>\n",
              "      <td>SOUTH UIST</td>\n",
              "      <td>NF 7870 5661</td>\n",
              "      <td>http://canmore.org.uk/site/9957</td>\n",
              "      <td>NaN</td>\n",
              "    </tr>\n",
              "    <tr>\n",
              "      <th>4</th>\n",
              "      <td>10071</td>\n",
              "      <td>NF77NW 5</td>\n",
              "      <td>North Uist, Foshigary</td>\n",
              "      <td>Aisled Roundhouse(S) (Iron Age), Souterrain (P...</td>\n",
              "      <td>74240</td>\n",
              "      <td>876380</td>\n",
              "      <td>WESTERN ISLES</td>\n",
              "      <td>INVERNESS-SHIRE</td>\n",
              "      <td>NORTH UIST</td>\n",
              "      <td>NF 7424 7638</td>\n",
              "      <td>http://canmore.org.uk/site/10071</td>\n",
              "      <td>NaN</td>\n",
              "    </tr>\n",
              "  </tbody>\n",
              "</table>\n",
              "</div>"
            ],
            "text/plain": [
              "   CANMORE ID SITE NUMBER  ...                               URL Unnamed: 11\n",
              "0       10093    NF77SE 3  ...  http://canmore.org.uk/site/10093         NaN\n",
              "1       10337    NF87NW 5  ...  http://canmore.org.uk/site/10337         NaN\n",
              "2        9855    NF72SW 1  ...   http://canmore.org.uk/site/9855         NaN\n",
              "3        9957    NF75NE 1  ...   http://canmore.org.uk/site/9957         NaN\n",
              "4       10071    NF77NW 5  ...  http://canmore.org.uk/site/10071         NaN\n",
              "\n",
              "[5 rows x 12 columns]"
            ]
          },
          "metadata": {
            "tags": []
          },
          "execution_count": 16
        }
      ]
    },
    {
      "cell_type": "code",
      "metadata": {
        "id": "K298lnsRCwFa",
        "colab_type": "code",
        "colab": {
          "base_uri": "https://localhost:8080/",
          "height": 282
        },
        "outputId": "c714a15c-26e6-4a93-dedc-19121b6e1bf7"
      },
      "source": [
        "canmore_sites.plot()"
      ],
      "execution_count": 7,
      "outputs": [
        {
          "output_type": "execute_result",
          "data": {
            "text/plain": [
              "<matplotlib.axes._subplots.AxesSubplot at 0x7fc62645bcc0>"
            ]
          },
          "metadata": {
            "tags": []
          },
          "execution_count": 7
        },
        {
          "output_type": "display_data",
          "data": {
            "image/png": "[encoded data removed]",
            "text/plain": [
              "<Figure size 432x288 with 1 Axes>"
            ]
          },
          "metadata": {
            "tags": []
          }
        }
      ]
    },
    {
      "cell_type": "code",
      "metadata": {
        "id": "C87ARRd5Dy7X",
        "colab_type": "code",
        "colab": {}
      },
      "source": [
        "import folium"
      ],
      "execution_count": 0,
      "outputs": []
    },
    {
      "cell_type": "code",
      "metadata": {
        "id": "5gzE7zyYD1sY",
        "colab_type": "code",
        "colab": {
          "base_uri": "https://localhost:8080/",
          "height": 1000
        },
        "outputId": "8412c765-dcb6-4aff-9f39-fb377c51ad83"
      },
      "source": [
        "location = canmore_sites ['SITE EASTING'].mean(), canmore_sites ['SITE NORTHING'].mean()\n",
        "for i in range(0,len(canmore_sites)): \n",
        "  m = folium.Map(location=location,zoom_start=20)\n",
        "folium.Marker([canmore_sites ['SITE EASTING'].iloc[i],canmore_sites['SITE NORTHING'].iloc[i]]).add_to(m)\n",
        "m"
      ],
      "execution_count": 19,
      "outputs": [
        {
          "output_type": "execute_result",
          "data": {
            "text/html": [
              "<div style=\"width:100%;\"><div style=\"position:relative;width:100%;height:0;padding-bottom:60%;\"><iframe src=\"data:text/html;charset=utf-8;base64,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\" style=\"position:absolute;width:100%;height:100%;left:0;top:0;border:none !important;\" allowfullscreen webkitallowfullscreen mozallowfullscreen></iframe></div></div>"
            ],
            "text/plain": [
              "<folium.folium.Map at 0x7fc6255baa90>"
            ]
          },
          "metadata": {
            "tags": []
          },
          "execution_count": 19
        }
      ]
    }
  ]
}